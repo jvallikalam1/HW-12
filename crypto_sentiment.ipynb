{
 "cells": [
  {
   "cell_type": "markdown",
   "metadata": {},
   "source": [
    "# News Headlines Sentiment\n",
    "\n",
    "Use the news api to pull the latest news articles for bitcoin and ethereum and create a DataFrame of sentiment scores for each coin. \n",
    "\n",
    "Use descriptive statistics to answer the following questions:\n",
    "1. Which coin had the highest mean positive score?\n",
    "2. Which coin had the highest negative score?\n",
    "3. Which coin had the highest positive score?"
   ]
  },
  {
   "cell_type": "code",
   "execution_count": 1,
   "metadata": {},
   "outputs": [],
   "source": [
    "# Initial imports\n",
    "import os\n",
    "import pandas as pd\n",
    "from nltk.sentiment.vader import SentimentIntensityAnalyzer\n",
    "analyzer = SentimentIntensityAnalyzer()\n",
    "\n",
    "%matplotlib inline"
   ]
  },
  {
   "cell_type": "code",
   "execution_count": 2,
   "metadata": {},
   "outputs": [],
   "source": [
    "# Read your api key environment variable\n",
    "\n",
    "from dotenv import load_dotenv \n",
    "%load_ext dotenv\n",
    "API_KEY = os.getenv('API_KEY') #this should work if the .env file in the same folder as the notebook file. "
   ]
  },
  {
   "cell_type": "code",
   "execution_count": 26,
   "metadata": {},
   "outputs": [],
   "source": [
    "# Create a newsapi client\n",
    "from newsapi import NewsApiClient\n",
    "newsapi= NewsApiClient(api_key='7790e548cc704e3ea32f9ea1b5fcb423') #used the API key directly because my IDE could not #read the env file and time was limited. "
   ]
  },
  {
   "cell_type": "code",
   "execution_count": 53,
   "metadata": {},
   "outputs": [
    {
     "output_type": "stream",
     "name": "stdout",
     "text": [
      "Total Results: 10341\n"
     ]
    },
    {
     "output_type": "execute_result",
     "data": {
      "text/plain": [
       "{'source': {'id': 'bbc-news', 'name': 'BBC News'},\n",
       " 'author': 'https://www.facebook.com/bbcnews',\n",
       " 'title': 'Tesla: Bitcoin sales, environmental credits boost profits',\n",
       " 'description': \"But the carmaker's profits were dented by a $299m payment to Tesla boss Elon Musk.\",\n",
       " 'url': 'https://www.bbc.co.uk/news/business-56897457',\n",
       " 'urlToImage': 'https://ichef.bbci.co.uk/news/1024/branded_news/13E5E/production/_118220518_gettyimages-1228322928.jpg',\n",
       " 'publishedAt': '2021-04-27T04:22:49Z',\n",
       " 'content': \"image copyrightGetty Images\\r\\nimage captionElon Musk's Tesla has seen a jump in profits\\r\\nTesla has posted first quarter profits of $438m (£315m) bolstered by sales of Bitcoin and environmental credits… [+2702 chars]\"}"
      ]
     },
     "metadata": {},
     "execution_count": 53
    }
   ],
   "source": [
    "# Fetch the Bitcoin news articles\n",
    "btc_news = newsapi.get_everything(q='bitcoin', \n",
    "                                  language='en')\n",
    "#print total articles\n",
    "print(f\"Total Results: {btc_news['totalResults']}\")\n",
    "btc_news[\"articles\"][5]"
   ]
  },
  {
   "cell_type": "code",
   "execution_count": 54,
   "metadata": {},
   "outputs": [
    {
     "output_type": "stream",
     "name": "stdout",
     "text": [
      "Total Results: 10341\n"
     ]
    },
    {
     "output_type": "execute_result",
     "data": {
      "text/plain": [
       "{'source': {'id': 'techcrunch', 'name': 'TechCrunch'},\n",
       " 'author': 'Mike Butcher',\n",
       " 'title': 'ConsenSys raises $65M from JP Morgan, Mastercard, UBS to build infrastructure for\\xa0DeFi',\n",
       " 'description': 'ConsenSys, a key player in crypto and a major proponent of the Ethereum blockchain, has raised a\\xa0$65 million funding round from\\xa0J.P. Morgan, Mastercard, and UBS AG, as well as major blockchain companies Protocol Labs, the Maker Foundation, Fenbushi, The LAO a…',\n",
       " 'url': 'http://techcrunch.com/2021/04/13/consensys-raises-65m-from-jp-morgan-mastercard-ubs-to-build-infrastructure-for-defi/',\n",
       " 'urlToImage': 'https://techcrunch.com/wp-content/uploads/2018/05/joe-lubin.jpg?w=601',\n",
       " 'publishedAt': '2021-04-13T13:01:02Z',\n",
       " 'content': 'ConsenSys, a key player in crypto and a major proponent of the Ethereum blockchain, has raised a\\xa0$65 million funding round from\\xa0J.P. Morgan, Mastercard, and UBS AG, as well as major blockchain compan… [+8767 chars]'}"
      ]
     },
     "metadata": {},
     "execution_count": 54
    }
   ],
   "source": [
    "# Fetch the Ethereum news articles\n",
    "# YOUR CODE HERE!\n",
    "eth_news = newsapi.get_everything(q = \"ethereum\", language = \"en\")\n",
    "\n",
    "print(f\"Total Results: {btc_news['totalResults']}\")\n",
    "eth_news[\"articles\"][5]"
   ]
  },
  {
   "cell_type": "code",
   "execution_count": 68,
   "metadata": {},
   "outputs": [
    {
     "output_type": "execute_result",
     "data": {
      "text/plain": [
       "   Compound  Negative  Neutral  Positive  \\\n",
       "0    0.2960       0.0    0.942     0.058   \n",
       "1    0.0000       0.0    1.000     0.000   \n",
       "2    0.7506       0.0    0.829     0.171   \n",
       "3    0.0000       0.0    1.000     0.000   \n",
       "4    0.6124       0.0    0.865     0.135   \n",
       "\n",
       "                                                text  \n",
       "0  shares of square are up more than 6% today aft...  \n",
       "1  tesla’s relationship with bitcoin is not a dal...  \n",
       "2  cryptocurrency continues to gain mainstream ac...  \n",
       "3  cryptocurrency prices continued to tumble frid...  \n",
       "4  the crypto industry as a whole has seen a mome...  "
      ],
      "text/html": "<div>\n<style scoped>\n    .dataframe tbody tr th:only-of-type {\n        vertical-align: middle;\n    }\n\n    .dataframe tbody tr th {\n        vertical-align: top;\n    }\n\n    .dataframe thead th {\n        text-align: right;\n    }\n</style>\n<table border=\"1\" class=\"dataframe\">\n  <thead>\n    <tr style=\"text-align: right;\">\n      <th></th>\n      <th>Compound</th>\n      <th>Negative</th>\n      <th>Neutral</th>\n      <th>Positive</th>\n      <th>text</th>\n    </tr>\n  </thead>\n  <tbody>\n    <tr>\n      <th>0</th>\n      <td>0.2960</td>\n      <td>0.0</td>\n      <td>0.942</td>\n      <td>0.058</td>\n      <td>shares of square are up more than 6% today aft...</td>\n    </tr>\n    <tr>\n      <th>1</th>\n      <td>0.0000</td>\n      <td>0.0</td>\n      <td>1.000</td>\n      <td>0.000</td>\n      <td>tesla’s relationship with bitcoin is not a dal...</td>\n    </tr>\n    <tr>\n      <th>2</th>\n      <td>0.7506</td>\n      <td>0.0</td>\n      <td>0.829</td>\n      <td>0.171</td>\n      <td>cryptocurrency continues to gain mainstream ac...</td>\n    </tr>\n    <tr>\n      <th>3</th>\n      <td>0.0000</td>\n      <td>0.0</td>\n      <td>1.000</td>\n      <td>0.000</td>\n      <td>cryptocurrency prices continued to tumble frid...</td>\n    </tr>\n    <tr>\n      <th>4</th>\n      <td>0.6124</td>\n      <td>0.0</td>\n      <td>0.865</td>\n      <td>0.135</td>\n      <td>the crypto industry as a whole has seen a mome...</td>\n    </tr>\n  </tbody>\n</table>\n</div>"
     },
     "metadata": {},
     "execution_count": 68
    }
   ],
   "source": [
    "# Create the Bitcoin sentiment scores DataFrame\n",
    "\n",
    "btc_sentiments = []\n",
    "\n",
    "for article in btc_news[\"articles\"]:\n",
    "    try:\n",
    "        text_sent = article[\"content\"].lower()\n",
    "        sentiment = analyzer.polarity_scores(text_sent)\n",
    "        compound = sentiment[\"compound\"]\n",
    "        pos = sentiment[\"pos\"]\n",
    "        neu = sentiment[\"neu\"]\n",
    "        neg = sentiment[\"neg\"]\n",
    "        \n",
    "        btc_sentiments.append({\"text\": text_sent, \"Compound\": compound, \"Positive\": pos, \"Negative\": neg, \"Neutral\": neu})\n",
    "        \n",
    "    except AttributeError:\n",
    "        pass\n",
    "\n",
    "#create a dataframe\n",
    "btc_df = pd.DataFrame(btc_sentiments)\n",
    "\n",
    "#organize columns\n",
    "cols = [\"Compound\", \"Negative\", \"Neutral\", \"Positive\", \"text\"]\n",
    "btc_df = btc_df[cols]\n",
    "btc_df.head()"
   ]
  },
  {
   "cell_type": "code",
   "execution_count": 69,
   "metadata": {},
   "outputs": [
    {
     "output_type": "execute_result",
     "data": {
      "text/plain": [
       "   Compound  Negative  Neutral  Positive  \\\n",
       "0   -0.2144     0.111    0.835     0.054   \n",
       "1    0.7506     0.000    0.829     0.171   \n",
       "2    0.0258     0.000    0.966     0.034   \n",
       "3    0.0000     0.000    1.000     0.000   \n",
       "4    0.4754     0.000    0.909     0.091   \n",
       "\n",
       "                                                text  \n",
       "0  their investors call them disruptive innovator...  \n",
       "1  cryptocurrency continues to gain mainstream ac...  \n",
       "2  venmo is jumping aboard the cryptocurrency ban...  \n",
       "3  new york (cnn business)bitcoin prices continue...  \n",
       "4  the creators behind cryptopunks, one of the mo...  "
      ],
      "text/html": "<div>\n<style scoped>\n    .dataframe tbody tr th:only-of-type {\n        vertical-align: middle;\n    }\n\n    .dataframe tbody tr th {\n        vertical-align: top;\n    }\n\n    .dataframe thead th {\n        text-align: right;\n    }\n</style>\n<table border=\"1\" class=\"dataframe\">\n  <thead>\n    <tr style=\"text-align: right;\">\n      <th></th>\n      <th>Compound</th>\n      <th>Negative</th>\n      <th>Neutral</th>\n      <th>Positive</th>\n      <th>text</th>\n    </tr>\n  </thead>\n  <tbody>\n    <tr>\n      <th>0</th>\n      <td>-0.2144</td>\n      <td>0.111</td>\n      <td>0.835</td>\n      <td>0.054</td>\n      <td>their investors call them disruptive innovator...</td>\n    </tr>\n    <tr>\n      <th>1</th>\n      <td>0.7506</td>\n      <td>0.000</td>\n      <td>0.829</td>\n      <td>0.171</td>\n      <td>cryptocurrency continues to gain mainstream ac...</td>\n    </tr>\n    <tr>\n      <th>2</th>\n      <td>0.0258</td>\n      <td>0.000</td>\n      <td>0.966</td>\n      <td>0.034</td>\n      <td>venmo is jumping aboard the cryptocurrency ban...</td>\n    </tr>\n    <tr>\n      <th>3</th>\n      <td>0.0000</td>\n      <td>0.000</td>\n      <td>1.000</td>\n      <td>0.000</td>\n      <td>new york (cnn business)bitcoin prices continue...</td>\n    </tr>\n    <tr>\n      <th>4</th>\n      <td>0.4754</td>\n      <td>0.000</td>\n      <td>0.909</td>\n      <td>0.091</td>\n      <td>the creators behind cryptopunks, one of the mo...</td>\n    </tr>\n  </tbody>\n</table>\n</div>"
     },
     "metadata": {},
     "execution_count": 69
    }
   ],
   "source": [
    "# Create the ethereum sentiment scores DataFrame\n",
    "eth_sentiments = []\n",
    "\n",
    "for article in eth_news[\"articles\"]:\n",
    "    try:\n",
    "        text_sent = article[\"content\"].lower()\n",
    "        sentiment = analyzer.polarity_scores(text_sent)\n",
    "        compound = sentiment[\"compound\"]\n",
    "        pos = sentiment[\"pos\"]\n",
    "        neu = sentiment[\"neu\"]\n",
    "        neg = sentiment[\"neg\"]\n",
    "\n",
    "        eth_sentiments.append({\"text\":text_sent, \"Compound\": compound, \"Positive\": pos, \"Negative\": neg,\n",
    "        \"Neutral\":neu})\n",
    "    except AttributeError:\n",
    "        pass\n",
    "\n",
    "#Create a Dataframe\n",
    "eth_df = pd.DataFrame(eth_sentiments)\n",
    "\n",
    "#Organize Columns\n",
    "cols = [\"Compound\", \"Negative\", \"Neutral\", \"Positive\", \"text\"]\n",
    "eth_df = eth_df[cols]\n",
    "eth_df.head()\n",
    "\n",
    "       \n",
    "    \n"
   ]
  },
  {
   "cell_type": "code",
   "execution_count": 70,
   "metadata": {},
   "outputs": [
    {
     "output_type": "execute_result",
     "data": {
      "text/plain": [
       "        Compound   Negative    Neutral   Positive\n",
       "count  20.000000  20.000000  20.000000  20.000000\n",
       "mean    0.221960   0.010300   0.927900   0.061850\n",
       "std     0.308283   0.025375   0.076463   0.068863\n",
       "min    -0.381800   0.000000   0.777000   0.000000\n",
       "25%     0.000000   0.000000   0.857000   0.000000\n",
       "50%     0.160900   0.000000   0.939000   0.046000\n",
       "75%     0.360375   0.000000   1.000000   0.119250\n",
       "max     0.750600   0.080000   1.000000   0.179000"
      ],
      "text/html": "<div>\n<style scoped>\n    .dataframe tbody tr th:only-of-type {\n        vertical-align: middle;\n    }\n\n    .dataframe tbody tr th {\n        vertical-align: top;\n    }\n\n    .dataframe thead th {\n        text-align: right;\n    }\n</style>\n<table border=\"1\" class=\"dataframe\">\n  <thead>\n    <tr style=\"text-align: right;\">\n      <th></th>\n      <th>Compound</th>\n      <th>Negative</th>\n      <th>Neutral</th>\n      <th>Positive</th>\n    </tr>\n  </thead>\n  <tbody>\n    <tr>\n      <th>count</th>\n      <td>20.000000</td>\n      <td>20.000000</td>\n      <td>20.000000</td>\n      <td>20.000000</td>\n    </tr>\n    <tr>\n      <th>mean</th>\n      <td>0.221960</td>\n      <td>0.010300</td>\n      <td>0.927900</td>\n      <td>0.061850</td>\n    </tr>\n    <tr>\n      <th>std</th>\n      <td>0.308283</td>\n      <td>0.025375</td>\n      <td>0.076463</td>\n      <td>0.068863</td>\n    </tr>\n    <tr>\n      <th>min</th>\n      <td>-0.381800</td>\n      <td>0.000000</td>\n      <td>0.777000</td>\n      <td>0.000000</td>\n    </tr>\n    <tr>\n      <th>25%</th>\n      <td>0.000000</td>\n      <td>0.000000</td>\n      <td>0.857000</td>\n      <td>0.000000</td>\n    </tr>\n    <tr>\n      <th>50%</th>\n      <td>0.160900</td>\n      <td>0.000000</td>\n      <td>0.939000</td>\n      <td>0.046000</td>\n    </tr>\n    <tr>\n      <th>75%</th>\n      <td>0.360375</td>\n      <td>0.000000</td>\n      <td>1.000000</td>\n      <td>0.119250</td>\n    </tr>\n    <tr>\n      <th>max</th>\n      <td>0.750600</td>\n      <td>0.080000</td>\n      <td>1.000000</td>\n      <td>0.179000</td>\n    </tr>\n  </tbody>\n</table>\n</div>"
     },
     "metadata": {},
     "execution_count": 70
    }
   ],
   "source": [
    "# Describe the Bitcoin Sentiment\n",
    "btc_df.describe()"
   ]
  },
  {
   "cell_type": "code",
   "execution_count": 73,
   "metadata": {},
   "outputs": [
    {
     "output_type": "execute_result",
     "data": {
      "text/plain": [
       "        Compound   Negative    Neutral   Positive\n",
       "count  20.000000  20.000000  20.000000  20.000000\n",
       "mean    0.132390   0.009250   0.948000   0.042750\n",
       "std     0.289687   0.029097   0.064851   0.059671\n",
       "min    -0.340000   0.000000   0.790000   0.000000\n",
       "25%     0.000000   0.000000   0.924000   0.000000\n",
       "50%     0.000000   0.000000   0.964000   0.017000\n",
       "75%     0.289900   0.000000   1.000000   0.062500\n",
       "max     0.817600   0.111000   1.000000   0.210000"
      ],
      "text/html": "<div>\n<style scoped>\n    .dataframe tbody tr th:only-of-type {\n        vertical-align: middle;\n    }\n\n    .dataframe tbody tr th {\n        vertical-align: top;\n    }\n\n    .dataframe thead th {\n        text-align: right;\n    }\n</style>\n<table border=\"1\" class=\"dataframe\">\n  <thead>\n    <tr style=\"text-align: right;\">\n      <th></th>\n      <th>Compound</th>\n      <th>Negative</th>\n      <th>Neutral</th>\n      <th>Positive</th>\n    </tr>\n  </thead>\n  <tbody>\n    <tr>\n      <th>count</th>\n      <td>20.000000</td>\n      <td>20.000000</td>\n      <td>20.000000</td>\n      <td>20.000000</td>\n    </tr>\n    <tr>\n      <th>mean</th>\n      <td>0.132390</td>\n      <td>0.009250</td>\n      <td>0.948000</td>\n      <td>0.042750</td>\n    </tr>\n    <tr>\n      <th>std</th>\n      <td>0.289687</td>\n      <td>0.029097</td>\n      <td>0.064851</td>\n      <td>0.059671</td>\n    </tr>\n    <tr>\n      <th>min</th>\n      <td>-0.340000</td>\n      <td>0.000000</td>\n      <td>0.790000</td>\n      <td>0.000000</td>\n    </tr>\n    <tr>\n      <th>25%</th>\n      <td>0.000000</td>\n      <td>0.000000</td>\n      <td>0.924000</td>\n      <td>0.000000</td>\n    </tr>\n    <tr>\n      <th>50%</th>\n      <td>0.000000</td>\n      <td>0.000000</td>\n      <td>0.964000</td>\n      <td>0.017000</td>\n    </tr>\n    <tr>\n      <th>75%</th>\n      <td>0.289900</td>\n      <td>0.000000</td>\n      <td>1.000000</td>\n      <td>0.062500</td>\n    </tr>\n    <tr>\n      <th>max</th>\n      <td>0.817600</td>\n      <td>0.111000</td>\n      <td>1.000000</td>\n      <td>0.210000</td>\n    </tr>\n  </tbody>\n</table>\n</div>"
     },
     "metadata": {},
     "execution_count": 73
    }
   ],
   "source": [
    "# Describe the Ethereum Sentiment\n",
    "eth_df.describe()"
   ]
  },
  {
   "cell_type": "markdown",
   "metadata": {},
   "source": [
    "### Questions:\n",
    "\n",
    "Q: Which coin had the highest mean positive score?\n",
    "\n",
    "A: Bitcoin has the highest mean positive score\n",
    "\n",
    "Q: Which coin had the highest compound score?\n",
    "\n",
    "A: Ethereum has the highest compound score\n",
    "\n",
    "Q. Which coin had the highest positive score?\n",
    "\n",
    "A: Ethereum has the highest positive score. "
   ]
  },
  {
   "cell_type": "markdown",
   "metadata": {},
   "source": [
    "---"
   ]
  },
  {
   "cell_type": "markdown",
   "metadata": {},
   "source": [
    "# Tokenizer\n",
    "\n",
    "In this section, you will use NLTK and Python to tokenize the text for each coin. Be sure to:\n",
    "1. Lowercase each word\n",
    "2. Remove Punctuation\n",
    "3. Remove Stopwords"
   ]
  },
  {
   "cell_type": "code",
   "execution_count": 74,
   "metadata": {},
   "outputs": [],
   "source": [
    "from nltk.tokenize import word_tokenize, sent_tokenize\n",
    "from nltk.corpus import stopwords\n",
    "from nltk.stem import WordNetLemmatizer, PorterStemmer\n",
    "from string import punctuation\n",
    "import re"
   ]
  },
  {
   "cell_type": "code",
   "execution_count": 75,
   "metadata": {},
   "outputs": [],
   "source": [
    "# Expand the default stopwords list if necessary\n",
    "stopw_addon = {',', 'how', 'what', 'https', 'damn', 'btc', 'much', 'ha'}"
   ]
  },
  {
   "cell_type": "code",
   "execution_count": 78,
   "metadata": {},
   "outputs": [],
   "source": [
    "# Complete the tokenizer function\n",
    "def tokenizer(text):\n",
    "    \"\"\"Tokenizes text.\"\"\"\n",
    "    # Create a list of the words\n",
    "    stopw =set(stopwords.words('english'))\n",
    "    regexp = re.compile(\"[^a-zA-Z ]\")\n",
    "    re_clean = regexp.sub('', text)\n",
    "    words = word_tokenize(re_clean)\n",
    "    # Lemmatize Words into root words\n",
    "    lemmatizer = WordNetLemmatizer()\n",
    "    lems = [lemmatizer.lemmatize(word) for word in words]\n",
    "\n",
    "    #Convert to lower and remove the stopwords\n",
    "    tokens = [word.lower() for word in lems if word.lower() not in stopw.union(stopw_addon)]\n",
    "    \n",
    "    return tokens\n"
   ]
  },
  {
   "cell_type": "code",
   "execution_count": 81,
   "metadata": {},
   "outputs": [
    {
     "output_type": "execute_result",
     "data": {
      "text/plain": [
       "   Compound  Negative  Neutral  Positive  \\\n",
       "0    0.2960       0.0    0.942     0.058   \n",
       "1    0.0000       0.0    1.000     0.000   \n",
       "2    0.7506       0.0    0.829     0.171   \n",
       "3    0.0000       0.0    1.000     0.000   \n",
       "4    0.6124       0.0    0.865     0.135   \n",
       "\n",
       "                                                text  \\\n",
       "0  shares of square are up more than 6% today aft...   \n",
       "1  tesla’s relationship with bitcoin is not a dal...   \n",
       "2  cryptocurrency continues to gain mainstream ac...   \n",
       "3  cryptocurrency prices continued to tumble frid...   \n",
       "4  the crypto industry as a whole has seen a mome...   \n",
       "\n",
       "                                              tokens  \n",
       "0  [share, square, today, american, fintech, comp...  \n",
       "1  [tesla, relationship, bitcoin, dalliance, acco...  \n",
       "2  [cryptocurrency, continues, gain, mainstream, ...  \n",
       "3  [cryptocurrency, price, continued, tumble, fri...  \n",
       "4  [crypto, industry, whole, seen, momentous, yea...  "
      ],
      "text/html": "<div>\n<style scoped>\n    .dataframe tbody tr th:only-of-type {\n        vertical-align: middle;\n    }\n\n    .dataframe tbody tr th {\n        vertical-align: top;\n    }\n\n    .dataframe thead th {\n        text-align: right;\n    }\n</style>\n<table border=\"1\" class=\"dataframe\">\n  <thead>\n    <tr style=\"text-align: right;\">\n      <th></th>\n      <th>Compound</th>\n      <th>Negative</th>\n      <th>Neutral</th>\n      <th>Positive</th>\n      <th>text</th>\n      <th>tokens</th>\n    </tr>\n  </thead>\n  <tbody>\n    <tr>\n      <th>0</th>\n      <td>0.2960</td>\n      <td>0.0</td>\n      <td>0.942</td>\n      <td>0.058</td>\n      <td>shares of square are up more than 6% today aft...</td>\n      <td>[share, square, today, american, fintech, comp...</td>\n    </tr>\n    <tr>\n      <th>1</th>\n      <td>0.0000</td>\n      <td>0.0</td>\n      <td>1.000</td>\n      <td>0.000</td>\n      <td>tesla’s relationship with bitcoin is not a dal...</td>\n      <td>[tesla, relationship, bitcoin, dalliance, acco...</td>\n    </tr>\n    <tr>\n      <th>2</th>\n      <td>0.7506</td>\n      <td>0.0</td>\n      <td>0.829</td>\n      <td>0.171</td>\n      <td>cryptocurrency continues to gain mainstream ac...</td>\n      <td>[cryptocurrency, continues, gain, mainstream, ...</td>\n    </tr>\n    <tr>\n      <th>3</th>\n      <td>0.0000</td>\n      <td>0.0</td>\n      <td>1.000</td>\n      <td>0.000</td>\n      <td>cryptocurrency prices continued to tumble frid...</td>\n      <td>[cryptocurrency, price, continued, tumble, fri...</td>\n    </tr>\n    <tr>\n      <th>4</th>\n      <td>0.6124</td>\n      <td>0.0</td>\n      <td>0.865</td>\n      <td>0.135</td>\n      <td>the crypto industry as a whole has seen a mome...</td>\n      <td>[crypto, industry, whole, seen, momentous, yea...</td>\n    </tr>\n  </tbody>\n</table>\n</div>"
     },
     "metadata": {},
     "execution_count": 81
    }
   ],
   "source": [
    "# Create a new tokens column for bitcoin\n",
    "btc_tokens = btc_df.copy()\n",
    "\n",
    "\n",
    "tokenized = []\n",
    "for i in btc_tokens ['text']:\n",
    "    tokenized_articles = tokenizer(i)\n",
    "    tokenized.append({'tokens':tokenized_articles})\n",
    "\n",
    "tokens_df = pd.DataFrame(tokenized)\n",
    "btc_tokens ['tokens'] = tokens_df\n",
    "\n",
    "\n",
    "btc_tokens.head()"
   ]
  },
  {
   "cell_type": "code",
   "execution_count": 82,
   "metadata": {},
   "outputs": [
    {
     "output_type": "execute_result",
     "data": {
      "text/plain": [
       "   Compound  Negative  Neutral  Positive  \\\n",
       "0   -0.2144     0.111    0.835     0.054   \n",
       "1    0.7506     0.000    0.829     0.171   \n",
       "2    0.0258     0.000    0.966     0.034   \n",
       "3    0.0000     0.000    1.000     0.000   \n",
       "4    0.4754     0.000    0.909     0.091   \n",
       "\n",
       "                                                text  \\\n",
       "0  their investors call them disruptive innovator...   \n",
       "1  cryptocurrency continues to gain mainstream ac...   \n",
       "2  venmo is jumping aboard the cryptocurrency ban...   \n",
       "3  new york (cnn business)bitcoin prices continue...   \n",
       "4  the creators behind cryptopunks, one of the mo...   \n",
       "\n",
       "                                              tokens  \n",
       "0  [investor, call, disruptive, innovator, detrac...  \n",
       "1  [cryptocurrency, continues, gain, mainstream, ...  \n",
       "2  [venmo, jumping, aboard, cryptocurrency, bandw...  \n",
       "3  [new, york, cnn, businessbitcoin, price, conti...  \n",
       "4  [creator, behind, cryptopunks, one, popular, n...  "
      ],
      "text/html": "<div>\n<style scoped>\n    .dataframe tbody tr th:only-of-type {\n        vertical-align: middle;\n    }\n\n    .dataframe tbody tr th {\n        vertical-align: top;\n    }\n\n    .dataframe thead th {\n        text-align: right;\n    }\n</style>\n<table border=\"1\" class=\"dataframe\">\n  <thead>\n    <tr style=\"text-align: right;\">\n      <th></th>\n      <th>Compound</th>\n      <th>Negative</th>\n      <th>Neutral</th>\n      <th>Positive</th>\n      <th>text</th>\n      <th>tokens</th>\n    </tr>\n  </thead>\n  <tbody>\n    <tr>\n      <th>0</th>\n      <td>-0.2144</td>\n      <td>0.111</td>\n      <td>0.835</td>\n      <td>0.054</td>\n      <td>their investors call them disruptive innovator...</td>\n      <td>[investor, call, disruptive, innovator, detrac...</td>\n    </tr>\n    <tr>\n      <th>1</th>\n      <td>0.7506</td>\n      <td>0.000</td>\n      <td>0.829</td>\n      <td>0.171</td>\n      <td>cryptocurrency continues to gain mainstream ac...</td>\n      <td>[cryptocurrency, continues, gain, mainstream, ...</td>\n    </tr>\n    <tr>\n      <th>2</th>\n      <td>0.0258</td>\n      <td>0.000</td>\n      <td>0.966</td>\n      <td>0.034</td>\n      <td>venmo is jumping aboard the cryptocurrency ban...</td>\n      <td>[venmo, jumping, aboard, cryptocurrency, bandw...</td>\n    </tr>\n    <tr>\n      <th>3</th>\n      <td>0.0000</td>\n      <td>0.000</td>\n      <td>1.000</td>\n      <td>0.000</td>\n      <td>new york (cnn business)bitcoin prices continue...</td>\n      <td>[new, york, cnn, businessbitcoin, price, conti...</td>\n    </tr>\n    <tr>\n      <th>4</th>\n      <td>0.4754</td>\n      <td>0.000</td>\n      <td>0.909</td>\n      <td>0.091</td>\n      <td>the creators behind cryptopunks, one of the mo...</td>\n      <td>[creator, behind, cryptopunks, one, popular, n...</td>\n    </tr>\n  </tbody>\n</table>\n</div>"
     },
     "metadata": {},
     "execution_count": 82
    }
   ],
   "source": [
    "# Create a new tokens column for ethereum\n",
    "eth_tokens = eth_df.copy()\n",
    "\n",
    "tokenized = []\n",
    "for i in eth_tokens ['text']:\n",
    "    tokenized_articles = tokenizer(i)\n",
    "    tokenized.append({'tokens':tokenized_articles})\n",
    "\n",
    "tokens_df = pd.DataFrame(tokenized)\n",
    "eth_tokens ['tokens'] = tokens_df\n",
    "\n",
    "\n",
    "eth_tokens.head()\n"
   ]
  },
  {
   "cell_type": "markdown",
   "metadata": {},
   "source": [
    "---"
   ]
  },
  {
   "cell_type": "markdown",
   "metadata": {},
   "source": [
    "# NGrams and Frequency Analysis\n",
    "\n",
    "In this section you will look at the ngrams and word frequency for each coin. \n",
    "\n",
    "1. Use NLTK to produce the n-grams for N = 2. \n",
    "2. List the top 10 words for each coin. "
   ]
  },
  {
   "cell_type": "code",
   "execution_count": 83,
   "metadata": {},
   "outputs": [],
   "source": [
    "from collections import Counter\n",
    "from nltk import ngrams"
   ]
  },
  {
   "cell_type": "code",
   "execution_count": 84,
   "metadata": {},
   "outputs": [],
   "source": [
    "all_btc_words = []\n",
    "\n",
    "for text in btc_tokens['tokens']:\n",
    "    for word in text:\n",
    "        all_btc_words.append(word)\n",
    "\n",
    "\n",
    "all_eth_words = []\n",
    "for text in eth_tokens['tokens']:\n",
    "    for word in text: \n",
    "        all_eth_words.append(word)"
   ]
  },
  {
   "cell_type": "code",
   "execution_count": 87,
   "metadata": {},
   "outputs": [],
   "source": [
    "btc_sent = []\n",
    "for sent in btc_tokens['text']:\n",
    "    sent_list = sent\n",
    "    btc_sent.append(sent_list)\n",
    "    \n",
    "eth_sent = []\n",
    "for sent in eth_tokens['text']:\n",
    "    sent_list_eth = sent \n",
    "    eth_sent.append(sent_list_eth)"
   ]
  },
  {
   "cell_type": "code",
   "execution_count": 88,
   "metadata": {},
   "outputs": [],
   "source": [
    "def gram_counter(corpus):\n",
    "    #combine all articles into one large string\n",
    "    long_string = ''.join(corpus)\n",
    "    processed = tokenizer(long_string)\n",
    "    grams = ngrams(processed, n=2)\n",
    "    top_10 = dict(Counter(grams).most_common(10))\n",
    "    return pd.DataFrame(list(top_10.items()), columns=['grams', 'count'])"
   ]
  },
  {
   "cell_type": "code",
   "execution_count": 89,
   "metadata": {},
   "outputs": [
    {
     "output_type": "execute_result",
     "data": {
      "text/plain": [
       "                   grams  count\n",
       "0     (charsby, reuters)      6\n",
       "1     (price, continued)      2\n",
       "2   (microstrategy, inc)      2\n",
       "3           (inc, major)      2\n",
       "4       (major, bitcoin)      2\n",
       "5   (bitcoin, corporate)      2\n",
       "6    (corporate, backer)      2\n",
       "7         (backer, said)      2\n",
       "8         (said, monday)      2\n",
       "9  (monday, nonemployee)      2"
      ],
      "text/html": "<div>\n<style scoped>\n    .dataframe tbody tr th:only-of-type {\n        vertical-align: middle;\n    }\n\n    .dataframe tbody tr th {\n        vertical-align: top;\n    }\n\n    .dataframe thead th {\n        text-align: right;\n    }\n</style>\n<table border=\"1\" class=\"dataframe\">\n  <thead>\n    <tr style=\"text-align: right;\">\n      <th></th>\n      <th>grams</th>\n      <th>count</th>\n    </tr>\n  </thead>\n  <tbody>\n    <tr>\n      <th>0</th>\n      <td>(charsby, reuters)</td>\n      <td>6</td>\n    </tr>\n    <tr>\n      <th>1</th>\n      <td>(price, continued)</td>\n      <td>2</td>\n    </tr>\n    <tr>\n      <th>2</th>\n      <td>(microstrategy, inc)</td>\n      <td>2</td>\n    </tr>\n    <tr>\n      <th>3</th>\n      <td>(inc, major)</td>\n      <td>2</td>\n    </tr>\n    <tr>\n      <th>4</th>\n      <td>(major, bitcoin)</td>\n      <td>2</td>\n    </tr>\n    <tr>\n      <th>5</th>\n      <td>(bitcoin, corporate)</td>\n      <td>2</td>\n    </tr>\n    <tr>\n      <th>6</th>\n      <td>(corporate, backer)</td>\n      <td>2</td>\n    </tr>\n    <tr>\n      <th>7</th>\n      <td>(backer, said)</td>\n      <td>2</td>\n    </tr>\n    <tr>\n      <th>8</th>\n      <td>(said, monday)</td>\n      <td>2</td>\n    </tr>\n    <tr>\n      <th>9</th>\n      <td>(monday, nonemployee)</td>\n      <td>2</td>\n    </tr>\n  </tbody>\n</table>\n</div>"
     },
     "metadata": {},
     "execution_count": 89
    }
   ],
   "source": [
    "# Generate the Bitcoin N-grams where N=2\n",
    "gram_counter(btc_sent)"
   ]
  },
  {
   "cell_type": "code",
   "execution_count": 90,
   "metadata": {},
   "outputs": [
    {
     "output_type": "execute_result",
     "data": {
      "text/plain": [
       "                       grams  count\n",
       "0         (charsby, reuters)      4\n",
       "1  (representation, virtual)      4\n",
       "2        (virtual, currency)      4\n",
       "3       (currency, ethereum)      4\n",
       "4           (ethereum, seen)      4\n",
       "5              (seen, front)      4\n",
       "6             (front, stock)      4\n",
       "7             (stock, graph)      4\n",
       "8      (graph, illustration)      4\n",
       "9      (illustration, taken)      4"
      ],
      "text/html": "<div>\n<style scoped>\n    .dataframe tbody tr th:only-of-type {\n        vertical-align: middle;\n    }\n\n    .dataframe tbody tr th {\n        vertical-align: top;\n    }\n\n    .dataframe thead th {\n        text-align: right;\n    }\n</style>\n<table border=\"1\" class=\"dataframe\">\n  <thead>\n    <tr style=\"text-align: right;\">\n      <th></th>\n      <th>grams</th>\n      <th>count</th>\n    </tr>\n  </thead>\n  <tbody>\n    <tr>\n      <th>0</th>\n      <td>(charsby, reuters)</td>\n      <td>4</td>\n    </tr>\n    <tr>\n      <th>1</th>\n      <td>(representation, virtual)</td>\n      <td>4</td>\n    </tr>\n    <tr>\n      <th>2</th>\n      <td>(virtual, currency)</td>\n      <td>4</td>\n    </tr>\n    <tr>\n      <th>3</th>\n      <td>(currency, ethereum)</td>\n      <td>4</td>\n    </tr>\n    <tr>\n      <th>4</th>\n      <td>(ethereum, seen)</td>\n      <td>4</td>\n    </tr>\n    <tr>\n      <th>5</th>\n      <td>(seen, front)</td>\n      <td>4</td>\n    </tr>\n    <tr>\n      <th>6</th>\n      <td>(front, stock)</td>\n      <td>4</td>\n    </tr>\n    <tr>\n      <th>7</th>\n      <td>(stock, graph)</td>\n      <td>4</td>\n    </tr>\n    <tr>\n      <th>8</th>\n      <td>(graph, illustration)</td>\n      <td>4</td>\n    </tr>\n    <tr>\n      <th>9</th>\n      <td>(illustration, taken)</td>\n      <td>4</td>\n    </tr>\n  </tbody>\n</table>\n</div>"
     },
     "metadata": {},
     "execution_count": 90
    }
   ],
   "source": [
    "# Generate the Ethereum N-grams where N=2\n",
    "gram_counter(eth_sent)"
   ]
  },
  {
   "cell_type": "code",
   "execution_count": 91,
   "metadata": {},
   "outputs": [],
   "source": [
    "# Use the token_count function to generate the top 10 words from each coin\n",
    "def token_count(tokens, N=10):\n",
    "    \"\"\"Returns the top N tokens from the frequency count\"\"\"\n",
    "    return Counter(tokens).most_common(N)"
   ]
  },
  {
   "cell_type": "code",
   "execution_count": 92,
   "metadata": {},
   "outputs": [
    {
     "output_type": "execute_result",
     "data": {
      "text/plain": [
       "[('char', 20),\n",
       " ('bitcoin', 14),\n",
       " ('reuters', 9),\n",
       " ('cryptocurrency', 7),\n",
       " ('tesla', 4),\n",
       " ('price', 4),\n",
       " ('today', 3),\n",
       " ('coin', 3),\n",
       " ('monday', 3),\n",
       " ('instead', 3)]"
      ]
     },
     "metadata": {},
     "execution_count": 92
    }
   ],
   "source": [
    "# Get the top 10 words for Bitcoin\n",
    "token_count(all_btc_words)"
   ]
  },
  {
   "cell_type": "code",
   "execution_count": 93,
   "metadata": {},
   "outputs": [
    {
     "output_type": "execute_result",
     "data": {
      "text/plain": [
       "[('char', 20),\n",
       " ('ethereum', 9),\n",
       " ('cryptocurrency', 6),\n",
       " ('reuters', 6),\n",
       " ('currency', 6),\n",
       " ('stock', 6),\n",
       " ('bitcoin', 5),\n",
       " ('project', 4),\n",
       " ('crypto', 4),\n",
       " ('representation', 4)]"
      ]
     },
     "metadata": {},
     "execution_count": 93
    }
   ],
   "source": [
    "# Get the top 10 words for Ethereum\n",
    "token_count(all_eth_words)"
   ]
  },
  {
   "cell_type": "markdown",
   "metadata": {},
   "source": [
    "# Word Clouds\n",
    "\n",
    "In this section, you will generate word clouds for each coin to summarize the news for each coin"
   ]
  },
  {
   "cell_type": "code",
   "execution_count": 101,
   "metadata": {},
   "outputs": [],
   "source": [
    "from wordcloud import WordCloud, ImageColorGenerator\n",
    "import matplotlib.pyplot as plt\n",
    "plt.style.use('seaborn-whitegrid')\n",
    "import matplotlib as mpl\n",
    "mpl.rcParams['figure.figsize'] = [20.0, 10.0]"
   ]
  },
  {
   "cell_type": "code",
   "execution_count": 102,
   "metadata": {},
   "outputs": [
    {
     "output_type": "display_data",
     "data": {
      "text/plain": "<Figure size 1440x720 with 1 Axes>",
      "image/svg+xml": "<?xml version=\"1.0\" encoding=\"utf-8\" standalone=\"no\"?>\n<!DOCTYPE svg PUBLIC \"-//W3C//DTD SVG 1.1//EN\"\n  \"http://www.w3.org/Graphics/SVG/1.1/DTD/svg11.dtd\">\n<svg height=\"603.65625pt\" version=\"1.1\" viewBox=\"0 0 1101.6 603.65625\" width=\"1101.6pt\" xmlns=\"http://www.w3.org/2000/svg\" xmlns:xlink=\"http://www.w3.org/1999/xlink\">\n <metadata>\n  <rdf:RDF xmlns:cc=\"http://creativecommons.org/ns#\" xmlns:dc=\"http://purl.org/dc/elements/1.1/\" xmlns:rdf=\"http://www.w3.org/1999/02/22-rdf-syntax-ns#\">\n   <cc:Work>\n    <dc:type rdf:resource=\"http://purl.org/dc/dcmitype/StillImage\"/>\n    <dc:date>2021-05-08T07:44:55.832682</dc:date>\n    <dc:format>image/svg+xml</dc:format>\n    <dc:creator>\n     <cc:Agent>\n      <dc:title>Matplotlib v3.4.1, https://matplotlib.org/</dc:title>\n     </cc:Agent>\n    </dc:creator>\n   </cc:Work>\n  </rdf:RDF>\n </metadata>\n <defs>\n  <style type=\"text/css\">*{stroke-linecap:butt;stroke-linejoin:round;}</style>\n </defs>\n <g id=\"figure_1\">\n  <g id=\"patch_1\">\n   <path d=\"M 0 603.65625 \nL 1101.6 603.65625 \nL 1101.6 0 \nL 0 0 \nz\n\" style=\"fill:#ffffff;\"/>\n  </g>\n  <g id=\"axes_1\">\n   <g clip-path=\"url(#pdebb584c69)\">\n    <image height=\"544\" id=\"imagedb74f974ca\" transform=\"scale(1 -1)translate(0 -544)\" width=\"1088\" x=\"7.2\" xlink:href=\"data:image/png;base64,\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\" y=\"-52.45625\"/>\n   </g>\n   <g id=\"text_1\">\n    <!-- Bitcoin Word Cloud -->\n    <g style=\"fill:#262626;\" transform=\"translate(317.960156 42.989062)scale(0.5 -0.5)\">\n     <defs>\n      <path d=\"M 469 4581 \nL 2300 4581 \nQ 2844 4581 3111 4536 \nQ 3378 4491 3589 4347 \nQ 3800 4203 3940 3964 \nQ 4081 3725 4081 3428 \nQ 4081 3106 3907 2837 \nQ 3734 2569 3438 2434 \nQ 3856 2313 4081 2019 \nQ 4306 1725 4306 1328 \nQ 4306 1016 4161 720 \nQ 4016 425 3764 248 \nQ 3513 72 3144 31 \nQ 2913 6 2028 0 \nL 469 0 \nL 469 4581 \nz\nM 1394 3819 \nL 1394 2759 \nL 2000 2759 \nQ 2541 2759 2672 2775 \nQ 2909 2803 3045 2939 \nQ 3181 3075 3181 3297 \nQ 3181 3509 3064 3642 \nQ 2947 3775 2716 3803 \nQ 2578 3819 1925 3819 \nL 1394 3819 \nz\nM 1394 1997 \nL 1394 772 \nL 2250 772 \nQ 2750 772 2884 800 \nQ 3091 838 3220 983 \nQ 3350 1128 3350 1372 \nQ 3350 1578 3250 1722 \nQ 3150 1866 2961 1931 \nQ 2772 1997 2141 1997 \nL 1394 1997 \nz\n\" id=\"Arial-BoldMT-42\" transform=\"scale(0.015625)\"/>\n      <path d=\"M 459 3769 \nL 459 4581 \nL 1338 4581 \nL 1338 3769 \nL 459 3769 \nz\nM 459 0 \nL 459 3319 \nL 1338 3319 \nL 1338 0 \nL 459 0 \nz\n\" id=\"Arial-BoldMT-69\" transform=\"scale(0.015625)\"/>\n      <path d=\"M 1981 3319 \nL 1981 2619 \nL 1381 2619 \nL 1381 1281 \nQ 1381 875 1398 808 \nQ 1416 741 1477 697 \nQ 1538 653 1625 653 \nQ 1747 653 1978 738 \nL 2053 56 \nQ 1747 -75 1359 -75 \nQ 1122 -75 931 4 \nQ 741 84 652 211 \nQ 563 338 528 553 \nQ 500 706 500 1172 \nL 500 2619 \nL 97 2619 \nL 97 3319 \nL 500 3319 \nL 500 3978 \nL 1381 4491 \nL 1381 3319 \nL 1981 3319 \nz\n\" id=\"Arial-BoldMT-74\" transform=\"scale(0.015625)\"/>\n      <path d=\"M 3353 2338 \nL 2488 2181 \nQ 2444 2441 2289 2572 \nQ 2134 2703 1888 2703 \nQ 1559 2703 1364 2476 \nQ 1169 2250 1169 1719 \nQ 1169 1128 1367 884 \nQ 1566 641 1900 641 \nQ 2150 641 2309 783 \nQ 2469 925 2534 1272 \nL 3397 1125 \nQ 3263 531 2881 228 \nQ 2500 -75 1859 -75 \nQ 1131 -75 698 384 \nQ 266 844 266 1656 \nQ 266 2478 700 2936 \nQ 1134 3394 1875 3394 \nQ 2481 3394 2839 3133 \nQ 3197 2872 3353 2338 \nz\n\" id=\"Arial-BoldMT-63\" transform=\"scale(0.015625)\"/>\n      <path d=\"M 256 1706 \nQ 256 2144 472 2553 \nQ 688 2963 1083 3178 \nQ 1478 3394 1966 3394 \nQ 2719 3394 3200 2905 \nQ 3681 2416 3681 1669 \nQ 3681 916 3195 420 \nQ 2709 -75 1972 -75 \nQ 1516 -75 1102 131 \nQ 688 338 472 736 \nQ 256 1134 256 1706 \nz\nM 1156 1659 \nQ 1156 1166 1390 903 \nQ 1625 641 1969 641 \nQ 2313 641 2545 903 \nQ 2778 1166 2778 1666 \nQ 2778 2153 2545 2415 \nQ 2313 2678 1969 2678 \nQ 1625 2678 1390 2415 \nQ 1156 2153 1156 1659 \nz\n\" id=\"Arial-BoldMT-6f\" transform=\"scale(0.015625)\"/>\n      <path d=\"M 3478 0 \nL 2600 0 \nL 2600 1694 \nQ 2600 2231 2544 2389 \nQ 2488 2547 2361 2634 \nQ 2234 2722 2056 2722 \nQ 1828 2722 1647 2597 \nQ 1466 2472 1398 2265 \nQ 1331 2059 1331 1503 \nL 1331 0 \nL 453 0 \nL 453 3319 \nL 1269 3319 \nL 1269 2831 \nQ 1703 3394 2363 3394 \nQ 2653 3394 2893 3289 \nQ 3134 3184 3257 3021 \nQ 3381 2859 3429 2653 \nQ 3478 2447 3478 2063 \nL 3478 0 \nz\n\" id=\"Arial-BoldMT-6e\" transform=\"scale(0.015625)\"/>\n      <path id=\"Arial-BoldMT-20\" transform=\"scale(0.015625)\"/>\n      <path d=\"M 1116 0 \nL 22 4581 \nL 969 4581 \nL 1659 1434 \nL 2497 4581 \nL 3597 4581 \nL 4400 1381 \nL 5103 4581 \nL 6034 4581 \nL 4922 0 \nL 3941 0 \nL 3028 3425 \nL 2119 0 \nL 1116 0 \nz\n\" id=\"Arial-BoldMT-57\" transform=\"scale(0.015625)\"/>\n      <path d=\"M 1300 0 \nL 422 0 \nL 422 3319 \nL 1238 3319 \nL 1238 2847 \nQ 1447 3181 1614 3287 \nQ 1781 3394 1994 3394 \nQ 2294 3394 2572 3228 \nL 2300 2463 \nQ 2078 2606 1888 2606 \nQ 1703 2606 1575 2504 \nQ 1447 2403 1373 2137 \nQ 1300 1872 1300 1025 \nL 1300 0 \nz\n\" id=\"Arial-BoldMT-72\" transform=\"scale(0.015625)\"/>\n      <path d=\"M 3503 0 \nL 2688 0 \nL 2688 488 \nQ 2484 203 2207 64 \nQ 1931 -75 1650 -75 \nQ 1078 -75 670 386 \nQ 263 847 263 1672 \nQ 263 2516 659 2955 \nQ 1056 3394 1663 3394 \nQ 2219 3394 2625 2931 \nL 2625 4581 \nL 3503 4581 \nL 3503 0 \nz\nM 1159 1731 \nQ 1159 1200 1306 963 \nQ 1519 619 1900 619 \nQ 2203 619 2415 876 \nQ 2628 1134 2628 1647 \nQ 2628 2219 2422 2470 \nQ 2216 2722 1894 2722 \nQ 1581 2722 1370 2473 \nQ 1159 2225 1159 1731 \nz\n\" id=\"Arial-BoldMT-64\" transform=\"scale(0.015625)\"/>\n      <path d=\"M 3397 1684 \nL 4294 1400 \nQ 4088 650 3608 286 \nQ 3128 -78 2391 -78 \nQ 1478 -78 890 545 \nQ 303 1169 303 2250 \nQ 303 3394 893 4026 \nQ 1484 4659 2447 4659 \nQ 3288 4659 3813 4163 \nQ 4125 3869 4281 3319 \nL 3366 3100 \nQ 3284 3456 3026 3662 \nQ 2769 3869 2400 3869 \nQ 1891 3869 1573 3503 \nQ 1256 3138 1256 2319 \nQ 1256 1450 1568 1081 \nQ 1881 713 2381 713 \nQ 2750 713 3015 947 \nQ 3281 1181 3397 1684 \nz\n\" id=\"Arial-BoldMT-43\" transform=\"scale(0.015625)\"/>\n      <path d=\"M 459 0 \nL 459 4581 \nL 1338 4581 \nL 1338 0 \nL 459 0 \nz\n\" id=\"Arial-BoldMT-6c\" transform=\"scale(0.015625)\"/>\n      <path d=\"M 2644 0 \nL 2644 497 \nQ 2463 231 2167 78 \nQ 1872 -75 1544 -75 \nQ 1209 -75 943 72 \nQ 678 219 559 484 \nQ 441 750 441 1219 \nL 441 3319 \nL 1319 3319 \nL 1319 1794 \nQ 1319 1094 1367 936 \nQ 1416 778 1544 686 \nQ 1672 594 1869 594 \nQ 2094 594 2272 717 \nQ 2450 841 2515 1023 \nQ 2581 1206 2581 1919 \nL 2581 3319 \nL 3459 3319 \nL 3459 0 \nL 2644 0 \nz\n\" id=\"Arial-BoldMT-75\" transform=\"scale(0.015625)\"/>\n     </defs>\n     <use xlink:href=\"#Arial-BoldMT-42\"/>\n     <use x=\"72.216797\" xlink:href=\"#Arial-BoldMT-69\"/>\n     <use x=\"100\" xlink:href=\"#Arial-BoldMT-74\"/>\n     <use x=\"133.300781\" xlink:href=\"#Arial-BoldMT-63\"/>\n     <use x=\"188.916016\" xlink:href=\"#Arial-BoldMT-6f\"/>\n     <use x=\"250\" xlink:href=\"#Arial-BoldMT-69\"/>\n     <use x=\"277.783203\" xlink:href=\"#Arial-BoldMT-6e\"/>\n     <use x=\"338.867188\" xlink:href=\"#Arial-BoldMT-20\"/>\n     <use x=\"366.650391\" xlink:href=\"#Arial-BoldMT-57\"/>\n     <use x=\"459.285156\" xlink:href=\"#Arial-BoldMT-6f\"/>\n     <use x=\"520.369141\" xlink:href=\"#Arial-BoldMT-72\"/>\n     <use x=\"559.285156\" xlink:href=\"#Arial-BoldMT-64\"/>\n     <use x=\"620.369141\" xlink:href=\"#Arial-BoldMT-20\"/>\n     <use x=\"648.152344\" xlink:href=\"#Arial-BoldMT-43\"/>\n     <use x=\"720.369141\" xlink:href=\"#Arial-BoldMT-6c\"/>\n     <use x=\"748.152344\" xlink:href=\"#Arial-BoldMT-6f\"/>\n     <use x=\"809.236328\" xlink:href=\"#Arial-BoldMT-75\"/>\n     <use x=\"870.320312\" xlink:href=\"#Arial-BoldMT-64\"/>\n    </g>\n   </g>\n  </g>\n </g>\n <defs>\n  <clipPath id=\"pdebb584c69\">\n   <rect height=\"543.6\" width=\"1087.2\" x=\"7.2\" y=\"52.85625\"/>\n  </clipPath>\n </defs>\n</svg>\n",
      "image/png": "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\n"
     },
     "metadata": {}
    }
   ],
   "source": [
    "# Generate the Bitcoin word cloud\n",
    "def text_processed(corpus):\n",
    "    #combine articles\n",
    "    long_string = ''.join(corpus)\n",
    "    return long_string\n",
    "\n",
    "btc_words = text_processed(all_btc_words)\n",
    "eth_words = text_processed(all_eth_words)\n",
    "\n",
    "\n",
    "\n",
    "fig = plt.figure()\n",
    "wc = WordCloud().generate(btc_words)\n",
    "plt.imshow(wc)\n",
    "plt.title('Bitcoin Word Cloud', fontsize=50, fontweight='bold')\n",
    "plt.axis('off')\n",
    "plt.show()"
   ]
  },
  {
   "cell_type": "code",
   "execution_count": 100,
   "metadata": {},
   "outputs": [
    {
     "output_type": "display_data",
     "data": {
      "text/plain": "<Figure size 1440x720 with 1 Axes>",
      "image/svg+xml": "<?xml version=\"1.0\" encoding=\"utf-8\" standalone=\"no\"?>\n<!DOCTYPE svg PUBLIC \"-//W3C//DTD SVG 1.1//EN\"\n  \"http://www.w3.org/Graphics/SVG/1.1/DTD/svg11.dtd\">\n<svg height=\"603.65625pt\" version=\"1.1\" viewBox=\"0 0 1101.6 603.65625\" width=\"1101.6pt\" xmlns=\"http://www.w3.org/2000/svg\" xmlns:xlink=\"http://www.w3.org/1999/xlink\">\n <metadata>\n  <rdf:RDF xmlns:cc=\"http://creativecommons.org/ns#\" xmlns:dc=\"http://purl.org/dc/elements/1.1/\" xmlns:rdf=\"http://www.w3.org/1999/02/22-rdf-syntax-ns#\">\n   <cc:Work>\n    <dc:type rdf:resource=\"http://purl.org/dc/dcmitype/StillImage\"/>\n    <dc:date>2021-05-08T07:42:49.942550</dc:date>\n    <dc:format>image/svg+xml</dc:format>\n    <dc:creator>\n     <cc:Agent>\n      <dc:title>Matplotlib v3.4.1, https://matplotlib.org/</dc:title>\n     </cc:Agent>\n    </dc:creator>\n   </cc:Work>\n  </rdf:RDF>\n </metadata>\n <defs>\n  <style type=\"text/css\">*{stroke-linecap:butt;stroke-linejoin:round;}</style>\n </defs>\n <g id=\"figure_1\">\n  <g id=\"patch_1\">\n   <path d=\"M 0 603.65625 \nL 1101.6 603.65625 \nL 1101.6 0 \nL 0 0 \nz\n\" style=\"fill:#ffffff;\"/>\n  </g>\n  <g id=\"axes_1\">\n   <g clip-path=\"url(#pd5e45d4919)\">\n    <image height=\"544\" id=\"imagebc282612d6\" transform=\"scale(1 -1)translate(0 -544)\" width=\"1088\" x=\"7.2\" xlink:href=\"data:image/png;base64,\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\" y=\"-52.45625\"/>\n   </g>\n   <g id=\"text_1\">\n    <!-- Ethereum Word Cloud -->\n    <g style=\"fill:#262626;\" transform=\"translate(287.366406 42.989062)scale(0.5 -0.5)\">\n     <defs>\n      <path d=\"M 466 0 \nL 466 4581 \nL 3863 4581 \nL 3863 3806 \nL 1391 3806 \nL 1391 2791 \nL 3691 2791 \nL 3691 2019 \nL 1391 2019 \nL 1391 772 \nL 3950 772 \nL 3950 0 \nL 466 0 \nz\n\" id=\"Arial-BoldMT-45\" transform=\"scale(0.015625)\"/>\n      <path d=\"M 1981 3319 \nL 1981 2619 \nL 1381 2619 \nL 1381 1281 \nQ 1381 875 1398 808 \nQ 1416 741 1477 697 \nQ 1538 653 1625 653 \nQ 1747 653 1978 738 \nL 2053 56 \nQ 1747 -75 1359 -75 \nQ 1122 -75 931 4 \nQ 741 84 652 211 \nQ 563 338 528 553 \nQ 500 706 500 1172 \nL 500 2619 \nL 97 2619 \nL 97 3319 \nL 500 3319 \nL 500 3978 \nL 1381 4491 \nL 1381 3319 \nL 1981 3319 \nz\n\" id=\"Arial-BoldMT-74\" transform=\"scale(0.015625)\"/>\n      <path d=\"M 1334 4581 \nL 1334 2897 \nQ 1759 3394 2350 3394 \nQ 2653 3394 2897 3281 \nQ 3141 3169 3264 2994 \nQ 3388 2819 3433 2606 \nQ 3478 2394 3478 1947 \nL 3478 0 \nL 2600 0 \nL 2600 1753 \nQ 2600 2275 2550 2415 \nQ 2500 2556 2373 2639 \nQ 2247 2722 2056 2722 \nQ 1838 2722 1666 2615 \nQ 1494 2509 1414 2295 \nQ 1334 2081 1334 1663 \nL 1334 0 \nL 456 0 \nL 456 4581 \nL 1334 4581 \nz\n\" id=\"Arial-BoldMT-68\" transform=\"scale(0.015625)\"/>\n      <path d=\"M 2381 1056 \nL 3256 909 \nQ 3088 428 2723 176 \nQ 2359 -75 1813 -75 \nQ 947 -75 531 491 \nQ 203 944 203 1634 \nQ 203 2459 634 2926 \nQ 1066 3394 1725 3394 \nQ 2466 3394 2894 2905 \nQ 3322 2416 3303 1406 \nL 1103 1406 \nQ 1113 1016 1316 798 \nQ 1519 581 1822 581 \nQ 2028 581 2168 693 \nQ 2309 806 2381 1056 \nz\nM 2431 1944 \nQ 2422 2325 2234 2523 \nQ 2047 2722 1778 2722 \nQ 1491 2722 1303 2513 \nQ 1116 2303 1119 1944 \nL 2431 1944 \nz\n\" id=\"Arial-BoldMT-65\" transform=\"scale(0.015625)\"/>\n      <path d=\"M 1300 0 \nL 422 0 \nL 422 3319 \nL 1238 3319 \nL 1238 2847 \nQ 1447 3181 1614 3287 \nQ 1781 3394 1994 3394 \nQ 2294 3394 2572 3228 \nL 2300 2463 \nQ 2078 2606 1888 2606 \nQ 1703 2606 1575 2504 \nQ 1447 2403 1373 2137 \nQ 1300 1872 1300 1025 \nL 1300 0 \nz\n\" id=\"Arial-BoldMT-72\" transform=\"scale(0.015625)\"/>\n      <path d=\"M 2644 0 \nL 2644 497 \nQ 2463 231 2167 78 \nQ 1872 -75 1544 -75 \nQ 1209 -75 943 72 \nQ 678 219 559 484 \nQ 441 750 441 1219 \nL 441 3319 \nL 1319 3319 \nL 1319 1794 \nQ 1319 1094 1367 936 \nQ 1416 778 1544 686 \nQ 1672 594 1869 594 \nQ 2094 594 2272 717 \nQ 2450 841 2515 1023 \nQ 2581 1206 2581 1919 \nL 2581 3319 \nL 3459 3319 \nL 3459 0 \nL 2644 0 \nz\n\" id=\"Arial-BoldMT-75\" transform=\"scale(0.015625)\"/>\n      <path d=\"M 394 3319 \nL 1203 3319 \nL 1203 2866 \nQ 1638 3394 2238 3394 \nQ 2556 3394 2790 3262 \nQ 3025 3131 3175 2866 \nQ 3394 3131 3647 3262 \nQ 3900 3394 4188 3394 \nQ 4553 3394 4806 3245 \nQ 5059 3097 5184 2809 \nQ 5275 2597 5275 2122 \nL 5275 0 \nL 4397 0 \nL 4397 1897 \nQ 4397 2391 4306 2534 \nQ 4184 2722 3931 2722 \nQ 3747 2722 3584 2609 \nQ 3422 2497 3350 2280 \nQ 3278 2063 3278 1594 \nL 3278 0 \nL 2400 0 \nL 2400 1819 \nQ 2400 2303 2353 2443 \nQ 2306 2584 2207 2653 \nQ 2109 2722 1941 2722 \nQ 1738 2722 1575 2612 \nQ 1413 2503 1342 2297 \nQ 1272 2091 1272 1613 \nL 1272 0 \nL 394 0 \nL 394 3319 \nz\n\" id=\"Arial-BoldMT-6d\" transform=\"scale(0.015625)\"/>\n      <path id=\"Arial-BoldMT-20\" transform=\"scale(0.015625)\"/>\n      <path d=\"M 1116 0 \nL 22 4581 \nL 969 4581 \nL 1659 1434 \nL 2497 4581 \nL 3597 4581 \nL 4400 1381 \nL 5103 4581 \nL 6034 4581 \nL 4922 0 \nL 3941 0 \nL 3028 3425 \nL 2119 0 \nL 1116 0 \nz\n\" id=\"Arial-BoldMT-57\" transform=\"scale(0.015625)\"/>\n      <path d=\"M 256 1706 \nQ 256 2144 472 2553 \nQ 688 2963 1083 3178 \nQ 1478 3394 1966 3394 \nQ 2719 3394 3200 2905 \nQ 3681 2416 3681 1669 \nQ 3681 916 3195 420 \nQ 2709 -75 1972 -75 \nQ 1516 -75 1102 131 \nQ 688 338 472 736 \nQ 256 1134 256 1706 \nz\nM 1156 1659 \nQ 1156 1166 1390 903 \nQ 1625 641 1969 641 \nQ 2313 641 2545 903 \nQ 2778 1166 2778 1666 \nQ 2778 2153 2545 2415 \nQ 2313 2678 1969 2678 \nQ 1625 2678 1390 2415 \nQ 1156 2153 1156 1659 \nz\n\" id=\"Arial-BoldMT-6f\" transform=\"scale(0.015625)\"/>\n      <path d=\"M 3503 0 \nL 2688 0 \nL 2688 488 \nQ 2484 203 2207 64 \nQ 1931 -75 1650 -75 \nQ 1078 -75 670 386 \nQ 263 847 263 1672 \nQ 263 2516 659 2955 \nQ 1056 3394 1663 3394 \nQ 2219 3394 2625 2931 \nL 2625 4581 \nL 3503 4581 \nL 3503 0 \nz\nM 1159 1731 \nQ 1159 1200 1306 963 \nQ 1519 619 1900 619 \nQ 2203 619 2415 876 \nQ 2628 1134 2628 1647 \nQ 2628 2219 2422 2470 \nQ 2216 2722 1894 2722 \nQ 1581 2722 1370 2473 \nQ 1159 2225 1159 1731 \nz\n\" id=\"Arial-BoldMT-64\" transform=\"scale(0.015625)\"/>\n      <path d=\"M 3397 1684 \nL 4294 1400 \nQ 4088 650 3608 286 \nQ 3128 -78 2391 -78 \nQ 1478 -78 890 545 \nQ 303 1169 303 2250 \nQ 303 3394 893 4026 \nQ 1484 4659 2447 4659 \nQ 3288 4659 3813 4163 \nQ 4125 3869 4281 3319 \nL 3366 3100 \nQ 3284 3456 3026 3662 \nQ 2769 3869 2400 3869 \nQ 1891 3869 1573 3503 \nQ 1256 3138 1256 2319 \nQ 1256 1450 1568 1081 \nQ 1881 713 2381 713 \nQ 2750 713 3015 947 \nQ 3281 1181 3397 1684 \nz\n\" id=\"Arial-BoldMT-43\" transform=\"scale(0.015625)\"/>\n      <path d=\"M 459 0 \nL 459 4581 \nL 1338 4581 \nL 1338 0 \nL 459 0 \nz\n\" id=\"Arial-BoldMT-6c\" transform=\"scale(0.015625)\"/>\n     </defs>\n     <use xlink:href=\"#Arial-BoldMT-45\"/>\n     <use x=\"66.699219\" xlink:href=\"#Arial-BoldMT-74\"/>\n     <use x=\"100\" xlink:href=\"#Arial-BoldMT-68\"/>\n     <use x=\"161.083984\" xlink:href=\"#Arial-BoldMT-65\"/>\n     <use x=\"216.699219\" xlink:href=\"#Arial-BoldMT-72\"/>\n     <use x=\"255.615234\" xlink:href=\"#Arial-BoldMT-65\"/>\n     <use x=\"311.230469\" xlink:href=\"#Arial-BoldMT-75\"/>\n     <use x=\"372.314453\" xlink:href=\"#Arial-BoldMT-6d\"/>\n     <use x=\"461.230469\" xlink:href=\"#Arial-BoldMT-20\"/>\n     <use x=\"489.013672\" xlink:href=\"#Arial-BoldMT-57\"/>\n     <use x=\"581.648438\" xlink:href=\"#Arial-BoldMT-6f\"/>\n     <use x=\"642.732422\" xlink:href=\"#Arial-BoldMT-72\"/>\n     <use x=\"681.648438\" xlink:href=\"#Arial-BoldMT-64\"/>\n     <use x=\"742.732422\" xlink:href=\"#Arial-BoldMT-20\"/>\n     <use x=\"770.515625\" xlink:href=\"#Arial-BoldMT-43\"/>\n     <use x=\"842.732422\" xlink:href=\"#Arial-BoldMT-6c\"/>\n     <use x=\"870.515625\" xlink:href=\"#Arial-BoldMT-6f\"/>\n     <use x=\"931.599609\" xlink:href=\"#Arial-BoldMT-75\"/>\n     <use x=\"992.683594\" xlink:href=\"#Arial-BoldMT-64\"/>\n    </g>\n   </g>\n  </g>\n </g>\n <defs>\n  <clipPath id=\"pd5e45d4919\">\n   <rect height=\"543.6\" width=\"1087.2\" x=\"7.2\" y=\"52.85625\"/>\n  </clipPath>\n </defs>\n</svg>\n",
      "image/png": "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\n"
     },
     "metadata": {}
    }
   ],
   "source": [
    "# Generate the Ethereum word cloud\n",
    "fig = plt.figure()\n",
    "wc = WordCloud().generate(eth_words)\n",
    "plt.imshow(wc)\n",
    "plt.title('Ethereum Word Cloud', fontsize=50, fontweight='bold')\n",
    "plt.axis('off')\n",
    "plt.show()"
   ]
  },
  {
   "cell_type": "markdown",
   "metadata": {},
   "source": [
    "# Named Entity Recognition\n",
    "\n",
    "In this section, you will build a named entity recognition model for both coins and visualize the tags using SpaCy."
   ]
  },
  {
   "cell_type": "code",
   "execution_count": 104,
   "metadata": {},
   "outputs": [
    {
     "output_type": "stream",
     "name": "stdout",
     "text": [
      "INFO:tensorflow:Enabling eager execution\n",
      "INFO:tensorflow:Enabling v2 tensorshape\n",
      "INFO:tensorflow:Enabling resource variables\n",
      "INFO:tensorflow:Enabling tensor equality\n",
      "INFO:tensorflow:Enabling control flow v2\n"
     ]
    }
   ],
   "source": [
    "import spacy\n",
    "from spacy import displacy"
   ]
  },
  {
   "cell_type": "code",
   "execution_count": 108,
   "metadata": {},
   "outputs": [
    {
     "output_type": "stream",
     "name": "stdout",
     "text": [
      "Collecting en-core-web-sm==3.0.0\n",
      "  Downloading https://github.com/explosion/spacy-models/releases/download/en_core_web_sm-3.0.0/en_core_web_sm-3.0.0-py3-none-any.whl (13.7 MB)\n",
      "\u001b[K     |████████████████████████████████| 13.7 MB 666 kB/s \n",
      "\u001b[?25hRequirement already satisfied: spacy<3.1.0,>=3.0.0 in /Users/walters/.pyenv/versions/3.9.2/lib/python3.9/site-packages (from en-core-web-sm==3.0.0) (3.0.6)\n",
      "Requirement already satisfied: packaging>=20.0 in /Users/walters/.pyenv/versions/3.9.2/lib/python3.9/site-packages (from spacy<3.1.0,>=3.0.0->en-core-web-sm==3.0.0) (20.9)\n",
      "Requirement already satisfied: murmurhash<1.1.0,>=0.28.0 in /Users/walters/.pyenv/versions/3.9.2/lib/python3.9/site-packages (from spacy<3.1.0,>=3.0.0->en-core-web-sm==3.0.0) (1.0.5)\n",
      "Requirement already satisfied: thinc<8.1.0,>=8.0.3 in /Users/walters/.pyenv/versions/3.9.2/lib/python3.9/site-packages (from spacy<3.1.0,>=3.0.0->en-core-web-sm==3.0.0) (8.0.3)\n",
      "Requirement already satisfied: cymem<2.1.0,>=2.0.2 in /Users/walters/.pyenv/versions/3.9.2/lib/python3.9/site-packages (from spacy<3.1.0,>=3.0.0->en-core-web-sm==3.0.0) (2.0.5)\n",
      "Requirement already satisfied: spacy-legacy<3.1.0,>=3.0.4 in /Users/walters/.pyenv/versions/3.9.2/lib/python3.9/site-packages (from spacy<3.1.0,>=3.0.0->en-core-web-sm==3.0.0) (3.0.5)\n",
      "Requirement already satisfied: typer<0.4.0,>=0.3.0 in /Users/walters/.pyenv/versions/3.9.2/lib/python3.9/site-packages (from spacy<3.1.0,>=3.0.0->en-core-web-sm==3.0.0) (0.3.2)\n",
      "Requirement already satisfied: requests<3.0.0,>=2.13.0 in /Users/walters/.pyenv/versions/3.9.2/lib/python3.9/site-packages (from spacy<3.1.0,>=3.0.0->en-core-web-sm==3.0.0) (2.25.1)\n",
      "Requirement already satisfied: catalogue<2.1.0,>=2.0.3 in /Users/walters/.pyenv/versions/3.9.2/lib/python3.9/site-packages (from spacy<3.1.0,>=3.0.0->en-core-web-sm==3.0.0) (2.0.4)\n",
      "Requirement already satisfied: wasabi<1.1.0,>=0.8.1 in /Users/walters/.pyenv/versions/3.9.2/lib/python3.9/site-packages (from spacy<3.1.0,>=3.0.0->en-core-web-sm==3.0.0) (0.8.2)\n",
      "Requirement already satisfied: preshed<3.1.0,>=3.0.2 in /Users/walters/.pyenv/versions/3.9.2/lib/python3.9/site-packages (from spacy<3.1.0,>=3.0.0->en-core-web-sm==3.0.0) (3.0.5)\n",
      "Requirement already satisfied: blis<0.8.0,>=0.4.0 in /Users/walters/.pyenv/versions/3.9.2/lib/python3.9/site-packages (from spacy<3.1.0,>=3.0.0->en-core-web-sm==3.0.0) (0.7.4)\n",
      "Requirement already satisfied: pydantic<1.8.0,>=1.7.1 in /Users/walters/.pyenv/versions/3.9.2/lib/python3.9/site-packages (from spacy<3.1.0,>=3.0.0->en-core-web-sm==3.0.0) (1.7.3)\n",
      "Requirement already satisfied: numpy>=1.15.0 in /Users/walters/.pyenv/versions/3.9.2/lib/python3.9/site-packages (from spacy<3.1.0,>=3.0.0->en-core-web-sm==3.0.0) (1.19.5)\n",
      "Requirement already satisfied: jinja2 in /Users/walters/.pyenv/versions/3.9.2/lib/python3.9/site-packages (from spacy<3.1.0,>=3.0.0->en-core-web-sm==3.0.0) (2.11.3)\n",
      "Requirement already satisfied: srsly<3.0.0,>=2.4.1 in /Users/walters/.pyenv/versions/3.9.2/lib/python3.9/site-packages (from spacy<3.1.0,>=3.0.0->en-core-web-sm==3.0.0) (2.4.1)\n",
      "Requirement already satisfied: setuptools in /Users/walters/.pyenv/versions/3.9.2/lib/python3.9/site-packages (from spacy<3.1.0,>=3.0.0->en-core-web-sm==3.0.0) (49.2.1)\n",
      "Requirement already satisfied: tqdm<5.0.0,>=4.38.0 in /Users/walters/.pyenv/versions/3.9.2/lib/python3.9/site-packages (from spacy<3.1.0,>=3.0.0->en-core-web-sm==3.0.0) (4.60.0)\n",
      "Requirement already satisfied: pathy>=0.3.5 in /Users/walters/.pyenv/versions/3.9.2/lib/python3.9/site-packages (from spacy<3.1.0,>=3.0.0->en-core-web-sm==3.0.0) (0.5.2)\n",
      "Requirement already satisfied: pyparsing>=2.0.2 in /Users/walters/.pyenv/versions/3.9.2/lib/python3.9/site-packages (from packaging>=20.0->spacy<3.1.0,>=3.0.0->en-core-web-sm==3.0.0) (2.4.7)\n",
      "Requirement already satisfied: smart-open<4.0.0,>=2.2.0 in /Users/walters/.pyenv/versions/3.9.2/lib/python3.9/site-packages (from pathy>=0.3.5->spacy<3.1.0,>=3.0.0->en-core-web-sm==3.0.0) (3.0.0)\n",
      "Requirement already satisfied: chardet<5,>=3.0.2 in /Users/walters/.pyenv/versions/3.9.2/lib/python3.9/site-packages (from requests<3.0.0,>=2.13.0->spacy<3.1.0,>=3.0.0->en-core-web-sm==3.0.0) (4.0.0)\n",
      "Requirement already satisfied: urllib3<1.27,>=1.21.1 in /Users/walters/.pyenv/versions/3.9.2/lib/python3.9/site-packages (from requests<3.0.0,>=2.13.0->spacy<3.1.0,>=3.0.0->en-core-web-sm==3.0.0) (1.26.4)\n",
      "Requirement already satisfied: idna<3,>=2.5 in /Users/walters/.pyenv/versions/3.9.2/lib/python3.9/site-packages (from requests<3.0.0,>=2.13.0->spacy<3.1.0,>=3.0.0->en-core-web-sm==3.0.0) (2.10)\n",
      "Requirement already satisfied: certifi>=2017.4.17 in /Users/walters/.pyenv/versions/3.9.2/lib/python3.9/site-packages (from requests<3.0.0,>=2.13.0->spacy<3.1.0,>=3.0.0->en-core-web-sm==3.0.0) (2020.12.5)\n",
      "Requirement already satisfied: click<7.2.0,>=7.1.1 in /Users/walters/.pyenv/versions/3.9.2/lib/python3.9/site-packages (from typer<0.4.0,>=0.3.0->spacy<3.1.0,>=3.0.0->en-core-web-sm==3.0.0) (7.1.2)\n",
      "Requirement already satisfied: MarkupSafe>=0.23 in /Users/walters/.pyenv/versions/3.9.2/lib/python3.9/site-packages (from jinja2->spacy<3.1.0,>=3.0.0->en-core-web-sm==3.0.0) (1.1.1)\n",
      "Installing collected packages: en-core-web-sm\n",
      "Successfully installed en-core-web-sm-3.0.0\n",
      "\u001b[38;5;2m✔ Download and installation successful\u001b[0m\n",
      "You can now load the package via spacy.load('en_core_web_sm')\n"
     ]
    }
   ],
   "source": [
    "#Optional - download a language model for SpaCy\n",
   
    "## Bitcoin NER"
   
